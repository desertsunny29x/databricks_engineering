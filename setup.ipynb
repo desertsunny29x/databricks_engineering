{
 "cells": [
  {
   "cell_type": "code",
   "execution_count": 0,
   "metadata": {
    "application/vnd.databricks.v1+cell": {
     "cellMetadata": {
      "byteLimit": 2048000,
      "implicitDf": true,
      "rowLimit": 10000
     },
     "inputWidgets": {},
     "nuid": "4b99e71d-d776-4c03-a923-aea92d55fcfd",
     "showTitle": false,
     "tableResultSettingsMap": {},
     "title": ""
    }
   },
   "outputs": [],
   "source": [
    "%sql\n",
    "CREATE SCHEMA workspace.raw;\n",
    "CREATE SCHEMA workspace.bronze;\n",
    "CREATE SCHEMA workspace.silver;\n",
    "CREATE SCHEMA workspace.gold;"
   ]
  },
  {
   "cell_type": "markdown",
   "metadata": {
    "application/vnd.databricks.v1+cell": {
     "cellMetadata": {},
     "inputWidgets": {},
     "nuid": "2c86c2a8-bc21-4b2b-9072-1ad14cbeb427",
     "showTitle": false,
     "tableResultSettingsMap": {},
     "title": ""
    }
   },
   "source": [
    "Create volumes that acts like a storage to store files/tables and views(similar to dbfs)"
   ]
  },
  {
   "cell_type": "code",
   "execution_count": 0,
   "metadata": {
    "application/vnd.databricks.v1+cell": {
     "cellMetadata": {
      "byteLimit": 2048000,
      "implicitDf": true,
      "rowLimit": 10000
     },
     "inputWidgets": {},
     "nuid": "ba26627a-07fe-4355-9cc7-ef01b91fd964",
     "showTitle": false,
     "tableResultSettingsMap": {},
     "title": ""
    }
   },
   "outputs": [],
   "source": [
    "%sql\n",
    "CREATE VOLUME IF NOT EXISTS workspace.raw.rawvolume;\n",
    "CREATE VOLUME IF NOT EXISTS workspace.bronze.bronzevolume;\n",
    "CREATE VOLUME IF NOT EXISTS workspace.silver.silvervolume;\n",
    "CREATE VOLUME IF NOT EXISTS workspace.gold.goldvolume;"
   ]
  },
  {
   "cell_type": "markdown",
   "metadata": {
    "application/vnd.databricks.v1+cell": {
     "cellMetadata": {},
     "inputWidgets": {},
     "nuid": "f3398030-efe0-4f4a-87a7-3af10b762695",
     "showTitle": false,
     "tableResultSettingsMap": {},
     "title": ""
    }
   },
   "source": []
  },
  {
   "cell_type": "markdown",
   "metadata": {
    "application/vnd.databricks.v1+cell": {
     "cellMetadata": {},
     "inputWidgets": {},
     "nuid": "ca7779a3-e767-4879-9e5b-c3e8fb8156d0",
     "showTitle": false,
     "tableResultSettingsMap": {},
     "title": ""
    }
   },
   "source": [
    "Create folders rawdata/flights, rawdata/bookings, rawdata/customers, and rawdata/airports in the volume **rawvolume**"
   ]
  },
  {
   "cell_type": "code",
   "execution_count": 0,
   "metadata": {
    "application/vnd.databricks.v1+cell": {
     "cellMetadata": {
      "byteLimit": 2048000,
      "rowLimit": 10000
     },
     "inputWidgets": {},
     "nuid": "7cf1d8f2-de69-4cd2-8586-5a221386e491",
     "showTitle": false,
     "tableResultSettingsMap": {},
     "title": ""
    }
   },
   "outputs": [],
   "source": [
    "# dbutils.fs.mkdirs(\"/Volumes/catalogue_name/schema_name/volume_name/any_folder_name\")\n",
    "dbutils.fs.mkdirs(\"/Volumes/workspace/raw/rawvolume/rawdata/flights\")\n",
    "dbutils.fs.mkdirs(\"/Volumes/workspace/raw/rawvolume/rawdata/bookings\")\n",
    "dbutils.fs.mkdirs(\"/Volumes/workspace/raw/rawvolume/rawdata/customers\")\n",
    "dbutils.fs.mkdirs(\"/Volumes/workspace/raw/rawvolume/rawdata/airports\")"
   ]
  }
 ],
 "metadata": {
  "application/vnd.databricks.v1+notebook": {
   "computePreferences": null,
   "dashboards": [],
   "environmentMetadata": {
    "base_environment": "",
    "environment_version": "2"
   },
   "inputWidgetPreferences": null,
   "language": "python",
   "notebookMetadata": {
    "mostRecentlyExecutedCommandWithImplicitDF": {
     "commandId": 6539100373840233,
     "dataframes": [
      "_sqldf"
     ]
    },
    "pythonIndentUnit": 4
   },
   "notebookName": "setup",
   "widgets": {}
  },
  "language_info": {
   "name": "python"
  }
 },
 "nbformat": 4,
 "nbformat_minor": 0
}
